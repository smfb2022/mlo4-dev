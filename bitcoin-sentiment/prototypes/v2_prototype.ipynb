{
 "cells": [
  {
   "cell_type": "code",
   "execution_count": 32,
   "metadata": {},
   "outputs": [],
   "source": [
    "import os\n",
    "from dotenv import load_dotenv, find_dotenv\n",
    "import tweepy as tw\n",
    "from pathlib import Path\n",
    "import matplotlib.pyplot as plt\n",
    "import pandas as pd\n",
    "from transformers import TextClassificationPipeline, AutoModelForSequenceClassification, AutoTokenizer\n",
    "import requests"
   ]
  },
  {
   "cell_type": "code",
   "execution_count": 33,
   "metadata": {},
   "outputs": [],
   "source": [
    "load_dotenv(find_dotenv())\n",
    "consumer_key = os.getenv('CONSUMER_KEY')\n",
    "consumer_secret = os.getenv('CONSUMER_SECRET')\n",
    "access_token = os.getenv('ACCESS_TOKEN')\n",
    "access_token_secret = os.getenv('ACCESS_TOKEN_SECRET')\n",
    "bearer_token = os.getenv('BEARER_TOKEN')\n"
   ]
  },
  {
   "cell_type": "code",
   "execution_count": 34,
   "metadata": {},
   "outputs": [],
   "source": [
    "# V1\n",
    "# auth = tw.OAuthHandler(consumer_key, consumer_secret)\n",
    "# auth.set_access_token(access_token, access_token_secret)\n",
    "# api = tw.API(auth, wait_on_rate_limit=True)\n",
    "\n",
    "#V2\n",
    "client = tw.Client(bearer_token, \n",
    "                        return_type = requests.Response,\n",
    "                        wait_on_rate_limit=True)\n"
   ]
  },
  {
   "cell_type": "code",
   "execution_count": 35,
   "metadata": {},
   "outputs": [],
   "source": [
    "#V1\n",
    "# def get_tweets(max_tweets=5):\n",
    "#     # Define the search term\n",
    "#     search_words = \"#bitcoin -filter:retweets\"\n",
    "#     # Collect tweets\n",
    "#     tweets = tw.Cursor(api.search_tweets, q=search_words, lang=\"en\", tweet_mode=\"extended\").items(max_tweets)\n",
    "#     return [tweet.full_text for tweet in tweets]\n",
    "\n",
    "#V2\n",
    "def get_tweets(max_tweets=10):\n",
    "    # Define the search term\n",
    "    query = 'bitcoin #BTC -is:retweet'\n",
    "    \n",
    "    tweets = client.search_recent_tweets(query=query, tweet_fields=['text'], max_results=max_tweets).json()['data']\n",
    "    # tweets_dict = tweets.json()\n",
    "    # tweets_data = tweets_dict['data']\n",
    "    # print(tweets)\n",
    "\n",
    "    return [tweet['text'] for tweet in tweets]\n"
   ]
  },
  {
   "cell_type": "code",
   "execution_count": 36,
   "metadata": {},
   "outputs": [
    {
     "name": "stdout",
     "output_type": "stream",
     "text": [
      "['you ?? The furthest dis#粉丝 #twitter粉丝  #twitter刷粉  #blockchain #btc #eth比特币 以太坊 #Bitcoin#Binance#web#NFTs#NFT#NFTCommunity#NFTGiveaway#Crypto#cryptocutance in the world is not when I stand in', '📈 $BTC / $USDT Longed(Buy) $19396.70\\n[01:31:21 UTC] [10:31:21 JST]\\n34.356 #BTC ($666393.03 #USDT)\\n#BTCUSDT #Bitcoin #Tether #Binance #Futures #BinanceFutures #xCryptoAlert #xCryptoAlert_BTC\\n🐳🐳🐳\\n\\nhttps://t.co/mvjG3b1P2H', 'that you were s#粉丝 #twitter粉丝  #twitter刷粉  #blockchain #btc #eth比特币 以太坊 #Bitcoin#Binance#web#NFTs#NFT#NFTCommunity#NFTGiveaway#Crypto#cryptocu12 o ordinary and ugly', '#Bitcoin Last Price $19416 #BTC 🚀\\nDaily Indicators:\\n•Variation since 00h00(UTC): +0.01%\\n•MACD:\\n -MACD Line: -116\\n -Signal Line: -187\\n\\n#Ethereum Last Price $1313 #ETH\\n•Variation: -0.16%\\n•MACD:\\n -MACD Line: -44\\n -Signal Line: -55\\n\\n#Blockchain #Web3\\n(2/6)\\n282193', 'get your first $15 bonus at  https://t.co/GTFvUmTtEL   #cryptocurrency #crypto #casino #bitcoin #blackjack #btc #gambling #betting #cryptocurrencies #invest #cryptonews #bitcoincash #litecoin #eth2022-10-09 01:21:02.180658', '2022年10月9日ビットコイン相場分析\\nhttps://t.co/Xin7a25D5r\\n\\n#BTC #bitcoin #仮想通貨 #ビットコイン', 'Seven Bored Apes Worth Over $700K Stolen - https://t.co/n5FR1bEyAc &lt;&lt; #crypto #cryptocurrency #currency #bitcoin #btc #digitalasset #money #blockchain #fintech #eth #bitcoinmining #ethereum #trading #investing #wealth #earnmoney #investor', \"You're an inch i#粉丝 #twitter粉丝  #twitter刷粉  #blockchain #btc #eth比特币 以太坊 #Bitcoin#Binance#web#NFTs#NFT#NFTCommunity#NFTGiveaway#Crypto#cryptocu45 the fourth rib of my\", '💵4,944 #BTC (96,013,250 USD) move from unknown wallet to unknown wallet\\n \\nDate : 2022-10-09 01:29:30 (GMT 0)\\nBlockchain : #BITCOIN\\nSymbol : #BTC\\n \\nDetail: https://t.co/cqJ1Tcz9CL', '💵💵🌱🌱\\nJust letting everyone know. For the September monthly candle to print a bullish divergence on the monthly RSI. The October monthly candle need to close positive and be green.\\nNow October just turned red and we lost the print. So we need october close green!\\n#Bitcoin #btc https://t.co/3k7VlPf6su']\n"
     ]
    }
   ],
   "source": [
    "posts = get_tweets()\n",
    "print(posts)"
   ]
  },
  {
   "cell_type": "markdown",
   "metadata": {},
   "source": [
    "### Load the model\n",
    "\n",
    "https://huggingface.co/ElKulako/cryptobert#:~:text=CryptoBERT%20is%20a%20pre%2Dtrained,cryptocurrency%2Drelated%20social%20media%20posts"
   ]
  },
  {
   "cell_type": "code",
   "execution_count": 37,
   "metadata": {},
   "outputs": [],
   "source": [
    "model_name = \"ElKulako/cryptobert\"\n",
    "tokenizer = AutoTokenizer.from_pretrained(model_name, use_fast=True)\n",
    "model = AutoModelForSequenceClassification.from_pretrained(model_name, num_labels = 3)\n",
    "pipe = TextClassificationPipeline(model=model, tokenizer=tokenizer)"
   ]
  },
  {
   "cell_type": "markdown",
   "metadata": {},
   "source": [
    "### Get the sentiment scores"
   ]
  },
  {
   "cell_type": "code",
   "execution_count": 38,
   "metadata": {},
   "outputs": [
    {
     "data": {
      "text/plain": [
       "pandas.core.frame.DataFrame"
      ]
     },
     "execution_count": 38,
     "metadata": {},
     "output_type": "execute_result"
    }
   ],
   "source": [
    "# post_1 & post_3 = bullish, post_2 = bearish\n",
    "preds = pipe(posts)\n",
    "type(pd.DataFrame(posts))"
   ]
  },
  {
   "cell_type": "code",
   "execution_count": 39,
   "metadata": {},
   "outputs": [
    {
     "data": {
      "text/plain": [
       "pandas.core.frame.DataFrame"
      ]
     },
     "execution_count": 39,
     "metadata": {},
     "output_type": "execute_result"
    }
   ],
   "source": [
    "df = pd.DataFrame(preds)\n",
    "type(df)"
   ]
  },
  {
   "cell_type": "code",
   "execution_count": 40,
   "metadata": {},
   "outputs": [
    {
     "data": {
      "text/html": [
       "<div>\n",
       "<style scoped>\n",
       "    .dataframe tbody tr th:only-of-type {\n",
       "        vertical-align: middle;\n",
       "    }\n",
       "\n",
       "    .dataframe tbody tr th {\n",
       "        vertical-align: top;\n",
       "    }\n",
       "\n",
       "    .dataframe thead th {\n",
       "        text-align: right;\n",
       "    }\n",
       "</style>\n",
       "<table border=\"1\" class=\"dataframe\">\n",
       "  <thead>\n",
       "    <tr style=\"text-align: right;\">\n",
       "      <th></th>\n",
       "      <th>0</th>\n",
       "      <th>label</th>\n",
       "      <th>score</th>\n",
       "    </tr>\n",
       "  </thead>\n",
       "  <tbody>\n",
       "    <tr>\n",
       "      <th>0</th>\n",
       "      <td>you ?? The furthest dis#粉丝 #twitter粉丝  #twitte...</td>\n",
       "      <td>Bullish</td>\n",
       "      <td>0.771797</td>\n",
       "    </tr>\n",
       "    <tr>\n",
       "      <th>1</th>\n",
       "      <td>📈 $BTC / $USDT Longed(Buy) $19396.70\\n[01:31:2...</td>\n",
       "      <td>Neutral</td>\n",
       "      <td>0.568028</td>\n",
       "    </tr>\n",
       "    <tr>\n",
       "      <th>2</th>\n",
       "      <td>that you were s#粉丝 #twitter粉丝  #twitter刷粉  #bl...</td>\n",
       "      <td>Bullish</td>\n",
       "      <td>0.708102</td>\n",
       "    </tr>\n",
       "    <tr>\n",
       "      <th>3</th>\n",
       "      <td>#Bitcoin Last Price $19416 #BTC 🚀\\nDaily Indic...</td>\n",
       "      <td>Bullish</td>\n",
       "      <td>0.462602</td>\n",
       "    </tr>\n",
       "    <tr>\n",
       "      <th>4</th>\n",
       "      <td>get your first $15 bonus at  https://t.co/GTFv...</td>\n",
       "      <td>Bullish</td>\n",
       "      <td>0.768864</td>\n",
       "    </tr>\n",
       "    <tr>\n",
       "      <th>5</th>\n",
       "      <td>2022年10月9日ビットコイン相場分析\\nhttps://t.co/Xin7a25D5r\\...</td>\n",
       "      <td>Neutral</td>\n",
       "      <td>0.686278</td>\n",
       "    </tr>\n",
       "    <tr>\n",
       "      <th>6</th>\n",
       "      <td>Seven Bored Apes Worth Over $700K Stolen - htt...</td>\n",
       "      <td>Bullish</td>\n",
       "      <td>0.609911</td>\n",
       "    </tr>\n",
       "    <tr>\n",
       "      <th>7</th>\n",
       "      <td>You're an inch i#粉丝 #twitter粉丝  #twitter刷粉  #b...</td>\n",
       "      <td>Bullish</td>\n",
       "      <td>0.726570</td>\n",
       "    </tr>\n",
       "    <tr>\n",
       "      <th>8</th>\n",
       "      <td>💵4,944 #BTC (96,013,250 USD) move from unknown...</td>\n",
       "      <td>Bullish</td>\n",
       "      <td>0.603553</td>\n",
       "    </tr>\n",
       "    <tr>\n",
       "      <th>9</th>\n",
       "      <td>💵💵🌱🌱\\nJust letting everyone know. For the Sept...</td>\n",
       "      <td>Bullish</td>\n",
       "      <td>0.685170</td>\n",
       "    </tr>\n",
       "  </tbody>\n",
       "</table>\n",
       "</div>"
      ],
      "text/plain": [
       "                                                   0    label     score\n",
       "0  you ?? The furthest dis#粉丝 #twitter粉丝  #twitte...  Bullish  0.771797\n",
       "1  📈 $BTC / $USDT Longed(Buy) $19396.70\\n[01:31:2...  Neutral  0.568028\n",
       "2  that you were s#粉丝 #twitter粉丝  #twitter刷粉  #bl...  Bullish  0.708102\n",
       "3  #Bitcoin Last Price $19416 #BTC 🚀\\nDaily Indic...  Bullish  0.462602\n",
       "4  get your first $15 bonus at  https://t.co/GTFv...  Bullish  0.768864\n",
       "5  2022年10月9日ビットコイン相場分析\\nhttps://t.co/Xin7a25D5r\\...  Neutral  0.686278\n",
       "6  Seven Bored Apes Worth Over $700K Stolen - htt...  Bullish  0.609911\n",
       "7  You're an inch i#粉丝 #twitter粉丝  #twitter刷粉  #b...  Bullish  0.726570\n",
       "8  💵4,944 #BTC (96,013,250 USD) move from unknown...  Bullish  0.603553\n",
       "9  💵💵🌱🌱\\nJust letting everyone know. For the Sept...  Bullish  0.685170"
      ]
     },
     "execution_count": 40,
     "metadata": {},
     "output_type": "execute_result"
    }
   ],
   "source": [
    "pd.concat([pd.DataFrame(posts), df], axis=1)"
   ]
  },
  {
   "cell_type": "code",
   "execution_count": null,
   "metadata": {},
   "outputs": [],
   "source": []
  }
 ],
 "metadata": {
  "kernelspec": {
   "display_name": "Python 3.9.13 ('capstone-env')",
   "language": "python",
   "name": "python3"
  },
  "language_info": {
   "codemirror_mode": {
    "name": "ipython",
    "version": 3
   },
   "file_extension": ".py",
   "mimetype": "text/x-python",
   "name": "python",
   "nbconvert_exporter": "python",
   "pygments_lexer": "ipython3",
   "version": "3.9.13"
  },
  "orig_nbformat": 4,
  "vscode": {
   "interpreter": {
    "hash": "8a2301b27a96f16339357710498ba8c33f970a6ee54734da470ddf5cd6d173d0"
   }
  }
 },
 "nbformat": 4,
 "nbformat_minor": 2
}
