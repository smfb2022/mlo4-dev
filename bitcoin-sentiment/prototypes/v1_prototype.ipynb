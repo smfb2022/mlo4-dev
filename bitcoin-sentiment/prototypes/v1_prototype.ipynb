{
 "cells": [
  {
   "cell_type": "code",
   "execution_count": 42,
   "metadata": {},
   "outputs": [],
   "source": [
    "import os\n",
    "from dotenv import load_dotenv, find_dotenv\n",
    "import tweepy as tw\n",
    "import matplotlib.pyplot as plt\n",
    "import pandas as pd\n",
    "from transformers import TextClassificationPipeline, AutoModelForSequenceClassification, AutoTokenizer"
   ]
  },
  {
   "cell_type": "markdown",
   "metadata": {},
   "source": [
    "#### Load OAuth 2.0 Bearer Token"
   ]
  },
  {
   "cell_type": "code",
   "execution_count": 43,
   "metadata": {},
   "outputs": [],
   "source": [
    "load_dotenv(find_dotenv())\n",
    "bearer_token = os.getenv('BEARER_TOKEN')"
   ]
  },
  {
   "cell_type": "code",
   "execution_count": 44,
   "metadata": {},
   "outputs": [],
   "source": [
    "client = tw.Client(bearer_token,  return_type = dict, wait_on_rate_limit=True)"
   ]
  },
  {
   "cell_type": "code",
   "execution_count": 45,
   "metadata": {},
   "outputs": [],
   "source": [
    "def get_tweets(max_tweets=10):\n",
    "    # Define the search term\n",
    "    query = '(Bitcoin OR #Bitcoin OR #BTC OR #btc) lang:en -is:retweet'   \n",
    "    tweets = client.search_recent_tweets(query=query, tweet_fields=['text'], max_results=max_tweets)\n",
    "    #print(tweets)\n",
    "    return [tweet['text'] for tweet in tweets['data']]\n"
   ]
  },
  {
   "cell_type": "code",
   "execution_count": 46,
   "metadata": {},
   "outputs": [],
   "source": [
    "posts = get_tweets()\n",
    "# print(posts)"
   ]
  },
  {
   "cell_type": "markdown",
   "metadata": {},
   "source": [
    "### Load the model\n",
    "\n",
    "https://huggingface.co/ElKulako/cryptobert#:~:text=CryptoBERT%20is%20a%20pre%2Dtrained,cryptocurrency%2Drelated%20social%20media%20posts"
   ]
  },
  {
   "cell_type": "code",
   "execution_count": 47,
   "metadata": {},
   "outputs": [],
   "source": [
    "model_name = \"ElKulako/cryptobert\"\n",
    "tokenizer = AutoTokenizer.from_pretrained(model_name, use_fast=True)\n",
    "model = AutoModelForSequenceClassification.from_pretrained(model_name, num_labels = 3)\n",
    "pipe = TextClassificationPipeline(model=model, tokenizer=tokenizer)"
   ]
  },
  {
   "cell_type": "markdown",
   "metadata": {},
   "source": [
    "### Get the sentiment scores"
   ]
  },
  {
   "cell_type": "code",
   "execution_count": 48,
   "metadata": {},
   "outputs": [],
   "source": [
    "preds = pipe(posts)"
   ]
  },
  {
   "cell_type": "code",
   "execution_count": 49,
   "metadata": {},
   "outputs": [
    {
     "data": {
      "text/html": [
       "<div>\n",
       "<style scoped>\n",
       "    .dataframe tbody tr th:only-of-type {\n",
       "        vertical-align: middle;\n",
       "    }\n",
       "\n",
       "    .dataframe tbody tr th {\n",
       "        vertical-align: top;\n",
       "    }\n",
       "\n",
       "    .dataframe thead th {\n",
       "        text-align: right;\n",
       "    }\n",
       "</style>\n",
       "<table border=\"1\" class=\"dataframe\">\n",
       "  <thead>\n",
       "    <tr style=\"text-align: right;\">\n",
       "      <th></th>\n",
       "      <th>tweet</th>\n",
       "      <th>label</th>\n",
       "      <th>score</th>\n",
       "    </tr>\n",
       "  </thead>\n",
       "  <tbody>\n",
       "    <tr>\n",
       "      <th>0</th>\n",
       "      <td>#bitcoin is now $19077 #19K https://t.co/N8U6z...</td>\n",
       "      <td>Neutral</td>\n",
       "      <td>0.929488</td>\n",
       "    </tr>\n",
       "    <tr>\n",
       "      <th>1</th>\n",
       "      <td>The NTK token will be used to power Netkoin’s ...</td>\n",
       "      <td>Bullish</td>\n",
       "      <td>0.728720</td>\n",
       "    </tr>\n",
       "    <tr>\n",
       "      <th>2</th>\n",
       "      <td>@crypto2real #SpookyShiba will explode over th...</td>\n",
       "      <td>Bullish</td>\n",
       "      <td>0.653898</td>\n",
       "    </tr>\n",
       "    <tr>\n",
       "      <th>3</th>\n",
       "      <td>Big news: Companies can value Bitcoin at its c...</td>\n",
       "      <td>Bullish</td>\n",
       "      <td>0.502303</td>\n",
       "    </tr>\n",
       "    <tr>\n",
       "      <th>4</th>\n",
       "      <td>@AltCryptoGems #SpookyShiba will explode over ...</td>\n",
       "      <td>Bullish</td>\n",
       "      <td>0.751607</td>\n",
       "    </tr>\n",
       "    <tr>\n",
       "      <th>5</th>\n",
       "      <td>@Excellion All systems go Commander Mow, steal...</td>\n",
       "      <td>Bullish</td>\n",
       "      <td>0.656621</td>\n",
       "    </tr>\n",
       "    <tr>\n",
       "      <th>6</th>\n",
       "      <td>Join me at Bybit and win Mystery Boxes togethe...</td>\n",
       "      <td>Neutral</td>\n",
       "      <td>0.737681</td>\n",
       "    </tr>\n",
       "    <tr>\n",
       "      <th>7</th>\n",
       "      <td>A complete US ban on Russian aluminum threaten...</td>\n",
       "      <td>Neutral</td>\n",
       "      <td>0.712163</td>\n",
       "    </tr>\n",
       "    <tr>\n",
       "      <th>8</th>\n",
       "      <td>Bitcoin 1-week activity: \\nPrice: $19.08K -6.2...</td>\n",
       "      <td>Neutral</td>\n",
       "      <td>0.947605</td>\n",
       "    </tr>\n",
       "    <tr>\n",
       "      <th>9</th>\n",
       "      <td>Unique, modern, win-win trading strategies,\\nd...</td>\n",
       "      <td>Neutral</td>\n",
       "      <td>0.796104</td>\n",
       "    </tr>\n",
       "  </tbody>\n",
       "</table>\n",
       "</div>"
      ],
      "text/plain": [
       "                                               tweet    label     score\n",
       "0  #bitcoin is now $19077 #19K https://t.co/N8U6z...  Neutral  0.929488\n",
       "1  The NTK token will be used to power Netkoin’s ...  Bullish  0.728720\n",
       "2  @crypto2real #SpookyShiba will explode over th...  Bullish  0.653898\n",
       "3  Big news: Companies can value Bitcoin at its c...  Bullish  0.502303\n",
       "4  @AltCryptoGems #SpookyShiba will explode over ...  Bullish  0.751607\n",
       "5  @Excellion All systems go Commander Mow, steal...  Bullish  0.656621\n",
       "6  Join me at Bybit and win Mystery Boxes togethe...  Neutral  0.737681\n",
       "7  A complete US ban on Russian aluminum threaten...  Neutral  0.712163\n",
       "8  Bitcoin 1-week activity: \\nPrice: $19.08K -6.2...  Neutral  0.947605\n",
       "9  Unique, modern, win-win trading strategies,\\nd...  Neutral  0.796104"
      ]
     },
     "execution_count": 49,
     "metadata": {},
     "output_type": "execute_result"
    }
   ],
   "source": [
    "df = pd.DataFrame(preds)\n",
    "df.insert(0, \"tweet\", posts, True)\n",
    "df"
   ]
  }
 ],
 "metadata": {
  "interpreter": {
   "hash": "7f1f369d1188ce4b94be9c5bad5731b69c72d0d95e96ba4e723c30ffbf605d17"
  },
  "kernelspec": {
   "display_name": "Python 3.8.13 ('mlops-course')",
   "language": "python",
   "name": "python3"
  },
  "language_info": {
   "codemirror_mode": {
    "name": "ipython",
    "version": 3
   },
   "file_extension": ".py",
   "mimetype": "text/x-python",
   "name": "python",
   "nbconvert_exporter": "python",
   "pygments_lexer": "ipython3",
   "version": "3.8.13"
  },
  "orig_nbformat": 4,
  "vscode": {
   "interpreter": {
    "hash": "8a2301b27a96f16339357710498ba8c33f970a6ee54734da470ddf5cd6d173d0"
   }
  }
 },
 "nbformat": 4,
 "nbformat_minor": 2
}
